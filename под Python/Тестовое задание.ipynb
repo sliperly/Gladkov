{
 "cells": [
  {
   "cell_type": "markdown",
   "id": "5d30e3f5",
   "metadata": {},
   "source": [
    "# Тестовое задание \"Открытый код\""
   ]
  },
  {
   "cell_type": "markdown",
   "id": "e389c242",
   "metadata": {},
   "source": [
    "## Исходные данные:"
   ]
  },
  {
   "cell_type": "markdown",
   "id": "3574b725",
   "metadata": {},
   "source": [
    "Даны два числа N и m \n",
    "\n",
    "500 < N <= 1000\n",
    "\n",
    "10 < m <= 50"
   ]
  },
  {
   "cell_type": "markdown",
   "id": "37ede837",
   "metadata": {},
   "source": [
    "## Программа 1 (формирование исходных данных):"
   ]
  },
  {
   "cell_type": "markdown",
   "id": "cfd6fa6f",
   "metadata": {},
   "source": [
    "По переданным числам N и m заполнить текстовый файл vectors.csv, состоящий из N строк, в каждой из которых m случайных чисел с плавающей точкой, каждое в диапазоне от -1 до +1, разделённых запятыми."
   ]
  },
  {
   "cell_type": "markdown",
   "id": "1cceac07",
   "metadata": {},
   "source": [
    "## Программа 2 (основное задание):"
   ]
  },
  {
   "cell_type": "markdown",
   "id": "c9c17607",
   "metadata": {},
   "source": [
    "На вход подаётся файл vectors.csv, созданный Программой 1. Каждая строка файла рассматривается как m-мерный вектор. Таким образом, получаем N векторов. Требуется вычислить евклидово расстояние между всеми парами различных векторов этого списка, и найти минимальное и максимальное расстояния, а также распределение расстояний."
   ]
  },
  {
   "cell_type": "markdown",
   "id": "782dc2ea",
   "metadata": {},
   "source": [
    "### Дополнительное требование по использованию памяти:"
   ]
  },
  {
   "cell_type": "markdown",
   "id": "7bfc5dfc",
   "metadata": {},
   "source": [
    "Недопустимо создавать структуры данных размером более N * m элементов (больше, чем размер входного списка векторов)."
   ]
  },
  {
   "cell_type": "markdown",
   "id": "c594df06",
   "metadata": {},
   "source": [
    "### *Результат выводится в виде:*"
   ]
  },
  {
   "cell_type": "markdown",
   "id": "102cff98",
   "metadata": {},
   "source": [
    "- номера векторов пары с минимальным расстоянием, и значение этого расстояния;\n",
    "- номера векторов пары с максимальным расстоянием, и значение этого расстояние;\n",
    "- изображение гистограммы распределения расстояний с шагом 0,1."
   ]
  },
  {
   "cell_type": "markdown",
   "id": "c28e164b",
   "metadata": {},
   "source": [
    "# Выполнение задания:"
   ]
  },
  {
   "cell_type": "markdown",
   "id": "a6f981ab",
   "metadata": {},
   "source": [
    "В задании не указано откуда будут передаваться числа, поэтому принимается, что их будет вводить пользователь по запросу программы. Также необходимо провести проверку переданных данных на соответствие требованиям, потому что пользователь может ввести их неправильно."
   ]
  },
  {
   "cell_type": "markdown",
   "id": "3f08571c",
   "metadata": {},
   "source": [
    "## *Запрос данных о значениях N и проверка полученных значений*:"
   ]
  },
  {
   "cell_type": "code",
   "execution_count": 1,
   "id": "92d8d62b",
   "metadata": {},
   "outputs": [
    {
     "name": "stdout",
     "output_type": "stream",
     "text": [
      "Введите число N (или введите 'exit' для выхода): 893\n",
      "Введенное число 893 удовлетворяет условиям.\n"
     ]
    }
   ],
   "source": [
    "while True:\n",
    "    user_input = input(\"Введите число N (или введите 'exit' для выхода): \")\n",
    "\n",
    "    if user_input.lower() == 'exit':\n",
    "        print(\"Программа завершена.\")\n",
    "        break\n",
    "\n",
    "    try:\n",
    "        n = int(user_input)\n",
    "\n",
    "        if 500 < n <= 1000:\n",
    "            print(f\"Введенное число {n} удовлетворяет условиям.\")\n",
    "            break\n",
    "        elif n <= 500:\n",
    "            print(\"Число должно быть больше 500. Повторите ввод.\")\n",
    "        elif n > 1000:\n",
    "            print(\"Число должно быть равно или меньше 1000. Повторите ввод.\")\n",
    "    except ValueError:\n",
    "        print(\"Введите число цифрами, а не текстом. Повторите ввод.\")\n"
   ]
  },
  {
   "cell_type": "markdown",
   "id": "e1877a16",
   "metadata": {},
   "source": [
    "## *Запрос данных о значениях m и проверка полученных значений:*"
   ]
  },
  {
   "cell_type": "code",
   "execution_count": 2,
   "id": "adf3f511",
   "metadata": {},
   "outputs": [
    {
     "name": "stdout",
     "output_type": "stream",
     "text": [
      "Введите число m (или введите 'exit' для выхода): 38\n",
      "Введенное число 38 удовлетворяет условиям.\n"
     ]
    }
   ],
   "source": [
    "while True:\n",
    "    user_input = input(\"Введите число m (или введите 'exit' для выхода): \")\n",
    "\n",
    "    if user_input.lower() == 'exit':\n",
    "        print(\"Программа завершена.\")\n",
    "        break\n",
    "\n",
    "    try:\n",
    "        m = int(user_input)\n",
    "\n",
    "        if 10 < m <= 50:\n",
    "            print(f\"Введенное число {m} удовлетворяет условиям.\")\n",
    "            break\n",
    "        elif m <= 10:\n",
    "            print(\"Число должно быть больше 10. Повторите ввод.\")\n",
    "        elif m > 50:\n",
    "            print(\"Число должно быть равно или меньше 50. Повторите ввод.\")\n",
    "    except ValueError:\n",
    "        print(\"Введите число цифрами, а не текстом. Повторите ввод.\")"
   ]
  },
  {
   "cell_type": "markdown",
   "id": "7fa8f9e5",
   "metadata": {},
   "source": [
    "## *Формирование файла vectors.csv*:"
   ]
  },
  {
   "cell_type": "code",
   "execution_count": 3,
   "id": "72d3b378",
   "metadata": {},
   "outputs": [
    {
     "name": "stdout",
     "output_type": "stream",
     "text": [
      "Файл vectors.csv успешно создан с 893 строками, каждая длиной 38.\n"
     ]
    }
   ],
   "source": [
    "import random\n",
    "import csv\n",
    "\n",
    "def generate_vector(m):\n",
    "    return [round(random.uniform(-1, 1), 2) for _ in range(m)]\n",
    "\n",
    "def write_vectors_to_csv(filename, n, m):\n",
    "    with open(filename, 'w', newline='') as csvfile:\n",
    "        writer = csv.writer(csvfile)\n",
    "        \n",
    "        for _ in range(n):\n",
    "            vector = generate_vector(m)\n",
    "            writer.writerow(vector)\n",
    "\n",
    "if __name__ == \"__main__\":\n",
    "\n",
    "    filename = \"vectors.csv\"\n",
    "\n",
    "    write_vectors_to_csv(filename, n, m)\n",
    "    print(f\"Файл {filename} успешно создан с {n} строками, каждая длиной {m}.\")"
   ]
  },
  {
   "cell_type": "markdown",
   "id": "db77f7dd",
   "metadata": {},
   "source": [
    "## *Основное задание*:"
   ]
  },
  {
   "cell_type": "code",
   "execution_count": 4,
   "id": "68da3b9d",
   "metadata": {},
   "outputs": [
    {
     "name": "stdout",
     "output_type": "stream",
     "text": [
      "Минимальное расстояние: Вектор 56 и Вектор 819, Значение: 2.863808652825813\n",
      "Максимальное расстояние: Вектор 94 и Вектор 737, Значение: 7.375913502746626\n"
     ]
    },
    {
     "data": {
      "image/png": "[encoded data removed]",
      "text/plain": [
       "<Figure size 640x480 with 1 Axes>"
      ]
     },
     "metadata": {},
     "output_type": "display_data"
    }
   ],
   "source": [
    "import numpy as np\n",
    "import matplotlib.pyplot as plt\n",
    "from itertools import combinations\n",
    "\n",
    "def euclidean_distance(v1, v2):\n",
    "    return np.linalg.norm(np.array(v1) - np.array(v2))\n",
    "\n",
    "def calculate_distances(vectors):\n",
    "    min_distance = float('inf')\n",
    "    max_distance = 0\n",
    "    distances = []\n",
    "\n",
    "    for pair in combinations(enumerate(vectors), 2):\n",
    "        idx1, vec1 = pair[0]\n",
    "        idx2, vec2 = pair[1]\n",
    "\n",
    "        distance = euclidean_distance(vec1, vec2)\n",
    "        distances.append(distance)\n",
    "\n",
    "        if distance < min_distance:\n",
    "            min_distance = distance\n",
    "            min_pair = (idx1, idx2)\n",
    "\n",
    "        if distance > max_distance:\n",
    "            max_distance = distance\n",
    "            max_pair = (idx1, idx2)\n",
    "\n",
    "    return min_pair, min_distance, max_pair, max_distance, distances\n",
    "\n",
    "def plot_histogram(distances):\n",
    "    plt.hist(distances, bins=np.arange(0, max(distances)+0.1, 0.1), edgecolor='black')\n",
    "    plt.title('Distribution of Euclidean Distances')\n",
    "    plt.xlabel('Distance')\n",
    "    plt.ylabel('Frequency')\n",
    "    plt.show()\n",
    "\n",
    "if __name__ == \"__main__\":\n",
    "    vectors = []\n",
    "    with open('vectors.csv', 'r') as file:\n",
    "        reader = csv.reader(file)\n",
    "        for row in reader:\n",
    "            vectors.append([float(val) for val in row])\n",
    "\n",
    "    min_pair, min_distance, max_pair, max_distance, distances = calculate_distances(vectors)\n",
    "\n",
    "    print(f\"Минимальное расстояние: Вектор {min_pair[0]} и Вектор {min_pair[1]}, Значение: {min_distance}\")\n",
    "    print(f\"Максимальное расстояние: Вектор {max_pair[0]} и Вектор {max_pair[1]}, Значение: {max_distance}\")\n",
    "\n",
    "    plot_histogram(distances)"
   ]
  },
  {
   "cell_type": "markdown",
   "id": "a9de6497",
   "metadata": {},
   "source": [
    "Осталось перевести получившийся код из ноутбука в программу на Python.\n",
    "А ещё будет интересно попробовать сделать это в Rust."
   ]
  }
 ],
 "metadata": {
  "kernelspec": {
   "display_name": "Python 3 (ipykernel)",
   "language": "python",
   "name": "python3"
  },
  "language_info": {
   "codemirror_mode": {
    "name": "ipython",
    "version": 3
   },
   "file_extension": ".py",
   "mimetype": "text/x-python",
   "name": "python",
   "nbconvert_exporter": "python",
   "pygments_lexer": "ipython3",
   "version": "3.11.5"
  }
 },
 "nbformat": 4,
 "nbformat_minor": 5
}
